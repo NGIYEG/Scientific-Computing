{
 "cells": [
  {
   "cell_type": "code",
   "execution_count": 19,
   "metadata": {},
   "outputs": [],
   "source": [
    "from sympy import symbols,diff,solve"
   ]
  },
  {
   "cell_type": "code",
   "execution_count": 20,
   "metadata": {},
   "outputs": [],
   "source": [
    "# cost function C\n",
    "x=symbols(\"x\")\n",
    "C=5*x**3 -10*x**2 +4*x +3"
   ]
  },
  {
   "cell_type": "code",
   "execution_count": 21,
   "metadata": {},
   "outputs": [
    {
     "data": {
      "text/latex": [
       "$\\displaystyle 15 x^{2} - 20 x + 4$"
      ],
      "text/plain": [
       "15*x**2 - 20*x + 4"
      ]
     },
     "execution_count": 21,
     "metadata": {},
     "output_type": "execute_result"
    }
   ],
   "source": [
    "#  Finding the symbolic derivative of C(x)\n",
    "\n",
    "symbolic_derivative =diff(C,x)\n",
    "symbolic_derivative"
   ]
  },
  {
   "cell_type": "code",
   "execution_count": 22,
   "metadata": {},
   "outputs": [
    {
     "data": {
      "text/plain": [
       "[2/3 - 2*sqrt(10)/15, 2*sqrt(10)/15 + 2/3]"
      ]
     },
     "execution_count": 22,
     "metadata": {},
     "output_type": "execute_result"
    }
   ],
   "source": [
    "# Solving for x when the symbolic_deravative=0\n",
    "\n",
    "critical_points=solve(symbolic_derivative,x)\n",
    "critical_points"
   ]
  },
  {
   "cell_type": "code",
   "execution_count": 23,
   "metadata": {},
   "outputs": [
    {
     "data": {
      "text/latex": [
       "$\\displaystyle 30 x - 20$"
      ],
      "text/plain": [
       "30*x - 20"
      ]
     },
     "execution_count": 23,
     "metadata": {},
     "output_type": "execute_result"
    }
   ],
   "source": [
    "# find the second deravative of C\n",
    "second_deravative=diff(symbolic_derivative,x)\n",
    "second_deravative"
   ]
  },
  {
   "cell_type": "code",
   "execution_count": 24,
   "metadata": {},
   "outputs": [],
   "source": [
    "second_deravative_values = [second_deravative.subs(x, point) for point in critical_points]\n",
    "\n",
    "for i, value in enumerate(second_deravative_values):\n",
    "    if value > 0:\n",
    "        minimum_startups= critical_points[i]\n"
   ]
  },
  {
   "cell_type": "code",
   "execution_count": 25,
   "metadata": {},
   "outputs": [
    {
     "name": "stdout",
     "output_type": "stream",
     "text": [
      "To minimize the cost, JKUAT incubator should fund 1.08830368802245 startups\n"
     ]
    }
   ],
   "source": [
    "\n",
    "#Interpretation\n",
    "print(f\"To minimize the cost, JKUAT incubator should fund {minimum_startups.evalf()} startups\")"
   ]
  }
 ],
 "metadata": {
  "kernelspec": {
   "display_name": "Python 3",
   "language": "python",
   "name": "python3"
  },
  "language_info": {
   "codemirror_mode": {
    "name": "ipython",
    "version": 3
   },
   "file_extension": ".py",
   "mimetype": "text/x-python",
   "name": "python",
   "nbconvert_exporter": "python",
   "pygments_lexer": "ipython3",
   "version": "3.13.0"
  }
 },
 "nbformat": 4,
 "nbformat_minor": 2
}
