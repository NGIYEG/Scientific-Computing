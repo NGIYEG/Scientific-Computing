{
 "cells": [
  {
   "cell_type": "markdown",
   "id": "405f3fbe",
   "metadata": {},
   "source": [
    "ICS 2207 Scientific Computing – CAT \n",
    "\n",
    "Instructions: Answer ALL questions. Each question is worth 20 marks.\n",
    "\n",
    "Question 1: Practical Gradient Descent Implementation (20 marks) \n",
    "You are provided with the function f(x) = x^2 - 6x + 9. \n",
    "a) Implement a Python function that performs gradient descent to minimize this function. \n",
    "The function should take as parameters: - the initial guess x0, - learning rate alpha, - and number of iterations n. \n",
    "The function should return the list of x-values and f(x)-values for each iteration. [10 \n",
    "Marks] \n",
    "b) Run your function with x0 = 2, alpha = 0.1, and n = 10. Present the output as a table \n",
    "with columns: iteration, x-value, f(x)-value.                                                          \n",
    "[6 Marks] \n",
    "c) Explain what would happen if the learning rate were set to 1 instead of 0.1, using \n",
    "insights from your code and outputs.                                                                     \n",
    "[4 Marks] \n",
    "\n",
    "Question 2: Linear Systems with Application Context (20 marks) \n",
    "A researcher is modeling a simple electrical circuit where: - 2I1 + 3I2 = 8 (KVL Equation 1) - 5I1 + 7I2 = 19 (KVL Equation 2) \n",
    "a) Formulate this system of equations as a matrix problem and solve it using NumPy in \n",
    "Python.                                                                                                                   \n",
    "[6 Marks] \n",
    "b) Modify your code to read the coefficients and constants from a `.txt` file that has the \n",
    "system in this format: \n",
    "2 3 8 \n",
    "5 7 19 \n",
    "Write code to parse the file and solve the system. [8 Marks] \n",
    "c) Explain one real-world implication if the matrix of coefficients were nearly singular. \n",
    "How would that affect the solution, and what could you do about it computationally? [6 \n",
    "Marks] \n",
    "\n",
    "Question 3: Data Visualization and Interpretation (20 marks) \n",
    "Given a file data.csv with two columns: Time (s) and Temperature (°C), your task is to \n",
    "analyze a heat transfer process. \n",
    "a) Write a Python script that: - reads the data using pandas, - plots a line graph of temperature vs time, - and adds labels, title, and grid.                                                                          \n",
    "[10 Marks] \n",
    "b) Based on your graph, explain any two observations you can make about the heating \n",
    "process (e.g., steady state, rate of change).                                                            \n",
    "[4 Marks] \n",
    "c) Describe a situation in engineering where such visualization can be used to influence \n",
    "decision-making.                                                                                                    \n",
    "[6 Marks] \n",
    "\n",
    "Question 4: ODE Simulation of Real System (20 marks) \n",
    "You are simulating population growth using the differential equation dy/dt = 0.5y, where \n",
    "y(0) = 100. \n",
    "a) Use Euler’s Method to approximate the population size after 4 time steps with step size \n",
    "h = 0.5. Show all computations.                                                                             \n",
    "[8 Marks] \n",
    "b) Write a Python function that generalizes the Euler’s method to solve any first-order \n",
    "ODE given f(t, y), initial condition, step size, and number of steps.                   \n",
    "[6 Marks] \n",
    "c) Briefly explain two limitations of using Euler’s Method for real-world systems, and \n",
    "suggest one alternative method.  \n",
    " "
   ]
  },
  {
   "cell_type": "code",
   "execution_count": null,
   "id": "61f58824",
   "metadata": {},
   "outputs": [],
   "source": [
    "# QUESTION 1A\n",
    "\n",
    "from sympy import diff, symbols,lambdify\n",
    "import sympy as sp\n",
    "import numpy as np\n",
    "\n",
    "def gradient_descent(x0, alpha, n):\n",
    "    # Define the variable\n",
    "    x = symbols('x')\n",
    "\n",
    "    # Define the function f(x)\n",
    "    f = x**2 - 6*x + 9\n",
    "\n",
    "    # Compute the derivative f'(x)\n",
    "    f_prime =diff(f, x)\n",
    "\n",
    "    # Convert symbolic expressions to numerical functions\n",
    "    f_func = lambdify(x, f, 'numpy')\n",
    "    f_prime_func =lambdify(x, f_prime, 'numpy')\n",
    "\n",
    "    # Initialize lists to store x and f(x) values\n",
    "    x_values = [x0]\n",
    "    fx_values = [f_func(x0)]\n",
    "\n",
    "    # Perform gradient descent iterations\n",
    "    for i in range(n):\n",
    "        x_current = x_values[-1]\n",
    "        x_new = x_current - alpha * f_prime_func(x_current)\n",
    "        x_values.append(x_new)\n",
    "        fx_values.append(f_func(x_new))\n",
    "\n",
    "    return x_values, fx_values"
   ]
  },
  {
   "cell_type": "code",
   "execution_count": 27,
   "id": "b313f7f7",
   "metadata": {},
   "outputs": [
    {
     "name": "stdout",
     "output_type": "stream",
     "text": [
      "Iteration       x-value         f(x)-value     \n",
      "------------------------------\n",
      "0               2.00000         1.00000        \n",
      "1               2.20000         0.64000        \n",
      "2               2.36000         0.40960        \n",
      "3               2.48800         0.26214        \n",
      "4               2.59040         0.16777        \n",
      "5               2.67232         0.10737        \n",
      "6               2.73786         0.06872        \n",
      "7               2.79028         0.04398        \n",
      "8               2.83223         0.02815        \n",
      "9               2.86578         0.01801        \n",
      "10              2.89263         0.01153        \n"
     ]
    }
   ],
   "source": [
    "# QUESTION 1B\n",
    "# Runing the function with x0 = 2, alpha = 0.1, and n = 10.\n",
    "x_vals, f_vals = gradient_descent(x0=2, alpha=0.1, n=10)\n",
    "\n",
    "# Print results as a table\n",
    "print(\"{:<15} {:<15} {:<15}\".format('Iteration', 'x-value', 'f(x)-value'))\n",
    "print(\"-\" * 30)\n",
    "for i in range(len(x_vals)):\n",
    "    print(\"{:<15} {:<15.5f} {:<15.5f}\".format(i, x_vals[i], f_vals[i]))\n"
   ]
  },
  {
   "cell_type": "code",
   "execution_count": 28,
   "id": "8f02d78b",
   "metadata": {},
   "outputs": [
    {
     "name": "stdout",
     "output_type": "stream",
     "text": [
      "Iteration       x-value         f(x)-value     \n",
      "------------------------------\n",
      "0               2.00000         1.00000        \n",
      "1               4.00000         1.00000        \n",
      "2               2.00000         1.00000        \n",
      "3               4.00000         1.00000        \n",
      "4               2.00000         1.00000        \n",
      "5               4.00000         1.00000        \n",
      "6               2.00000         1.00000        \n",
      "7               4.00000         1.00000        \n",
      "8               2.00000         1.00000        \n",
      "9               4.00000         1.00000        \n",
      "10              2.00000         1.00000        \n"
     ]
    }
   ],
   "source": [
    "# QUESTION 1C\n",
    "# Runing the function with x0 = 2, alpha =1 and n = 10 to check the outputs\n",
    "x_vals, f_vals = gradient_descent(x0=2, alpha=1, n=10)\n",
    "print(\"{:<15} {:<15} {:<15}\".format('Iteration', 'x-value', 'f(x)-value'))\n",
    "print(\"-\" * 30)\n",
    "for i in range(len(x_vals)):\n",
    "   print(\"{:<15} {:<15.5f} {:<15.5f}\".format(i, x_vals[i], f_vals[i]))\n"
   ]
  },
  {
   "cell_type": "markdown",
   "id": "0ee68a09",
   "metadata": {},
   "source": [
    "\n",
    " EXPLAINING THE RESULTS WITH LEARNING RATE OF 0.1 AND LEARNING RATE OF 1\n",
    " \n",
    "When the learning rate is 0.1:\n",
    "the updates to x are small and gradual,allowing the algorithm to slowly approach the minimum at x=3.The function \n",
    "f(x)=x**2-6*x+9 decreases steadily,and x moves closer to the minimum (x=3) while f(x) approaches 0.\n",
    "\n",
    "When the learning rate is 1:\n",
    "The algorithm makes larger updates that overshoots the minimum.For instance,if x=2, the minimum jumps to 4 and if x=4 it jumps back to 2.Hence this makes the algorithm to oscillate between 2 and 4 instead of converging to 3, hence ineffective for minimizing the function.Therefore ,a learning rate of 1 can cause the algorithm to fail to converge and instead oscillate,leading to poor results.\n"
   ]
  },
  {
   "cell_type": "code",
   "execution_count": null,
   "id": "16a2cc4f",
   "metadata": {},
   "outputs": [
    {
     "name": "stdout",
     "output_type": "stream",
     "text": [
      "I1 = 1.0 Amperes\n",
      "I2 = 2.0 Amperes\n"
     ]
    }
   ],
   "source": [
    "\n",
    "# QUESTION 2A\n",
    "# Solving a system of linear equations, 2I1 + 3I2 =8  AND 5I1 + 7I2 =19\n",
    "\n",
    "import numpy as np\n",
    "A=np.array([[2,3],[5,7]])\n",
    "B=np.array([8,19])\n",
    "I=np.linalg.solve(A,B)\n",
    "print(\"I1 = {} Amperes\\nI2 = {} Amperes\".format(I[0], I[1]))\n"
   ]
  },
  {
   "cell_type": "code",
   "execution_count": null,
   "id": "56ce179d",
   "metadata": {},
   "outputs": [
    {
     "name": "stdout",
     "output_type": "stream",
     "text": [
      "I1 = 1.0 Amperes\n",
      "I2 = 2.0 Amperes\n"
     ]
    },
    {
     "data": {
      "text/plain": [
       "np.float64(86.98850422812917)"
      ]
     },
     "execution_count": 29,
     "metadata": {},
     "output_type": "execute_result"
    }
   ],
   "source": [
    "\n",
    "# QUESTION 2B\n",
    "# Loading data from circuit.txt\n",
    "data= np.loadtxt(r\"G:\\CS NOTES\\2.2\\SCIENTIFIC COMPUTING\\Assignment\\Scientic computing cat\\circuit.txt\")\n",
    "\n",
    "# Transpose the data matrix\n",
    "C=data.T\n",
    "\n",
    "# Extracting the coefficients matrix\n",
    "A = C[0:2].T\n",
    "\n",
    "# Extracting the costants matrix\n",
    "B=C[2]\n",
    "\n",
    "I=np.linalg.solve(A,B)\n",
    "\n",
    "print(\"I1 = {} Amperes\\nI2 = {} Amperes\".format(I[0], I[1]))\n"
   ]
  },
  {
   "cell_type": "markdown",
   "id": "0dd92091",
   "metadata": {},
   "source": [
    "\n",
    "QUESTION 2C\n",
    "\n",
    "If the matrix of coefficients is nearly singular, it means the two equations are almost the same or very close to being dependent. This causes problems when solving because small errors in the numbers (like rounding or small measurement mistakes) can make the solution change a lot. This makes the result unstable and not reliable.\n",
    "\n",
    "To fix this in Python, we can use more stable methods like np.linalg.lstsq, which gives an approximate solution that is less sensitive to small errors. We can also check how close the matrix is to being singular using np.linalg.cond(A). A high condition number means the system is not stable and needs careful handling.\n"
   ]
  },
  {
   "cell_type": "markdown",
   "id": "61f593cf",
   "metadata": {},
   "source": [
    "<!-- QUESTION 2C -->"
   ]
  },
  {
   "cell_type": "code",
   "execution_count": null,
   "id": "1787c444",
   "metadata": {},
   "outputs": [
    {
     "data": {
      "text/html": [
       "<div>\n",
       "<style scoped>\n",
       "    .dataframe tbody tr th:only-of-type {\n",
       "        vertical-align: middle;\n",
       "    }\n",
       "\n",
       "    .dataframe tbody tr th {\n",
       "        vertical-align: top;\n",
       "    }\n",
       "\n",
       "    .dataframe thead th {\n",
       "        text-align: right;\n",
       "    }\n",
       "</style>\n",
       "<table border=\"1\" class=\"dataframe\">\n",
       "  <thead>\n",
       "    <tr style=\"text-align: right;\">\n",
       "      <th></th>\n",
       "      <th>Time(s)</th>\n",
       "      <th>Temperature(°C)</th>\n",
       "    </tr>\n",
       "  </thead>\n",
       "  <tbody>\n",
       "    <tr>\n",
       "      <th>0</th>\n",
       "      <td>0</td>\n",
       "      <td>90.0</td>\n",
       "    </tr>\n",
       "    <tr>\n",
       "      <th>1</th>\n",
       "      <td>10</td>\n",
       "      <td>84.5</td>\n",
       "    </tr>\n",
       "    <tr>\n",
       "      <th>2</th>\n",
       "      <td>20</td>\n",
       "      <td>79.8</td>\n",
       "    </tr>\n",
       "    <tr>\n",
       "      <th>3</th>\n",
       "      <td>30</td>\n",
       "      <td>75.3</td>\n",
       "    </tr>\n",
       "    <tr>\n",
       "      <th>4</th>\n",
       "      <td>40</td>\n",
       "      <td>71.0</td>\n",
       "    </tr>\n",
       "    <tr>\n",
       "      <th>5</th>\n",
       "      <td>50</td>\n",
       "      <td>67.0</td>\n",
       "    </tr>\n",
       "    <tr>\n",
       "      <th>6</th>\n",
       "      <td>60</td>\n",
       "      <td>63.3</td>\n",
       "    </tr>\n",
       "    <tr>\n",
       "      <th>7</th>\n",
       "      <td>70</td>\n",
       "      <td>59.8</td>\n",
       "    </tr>\n",
       "    <tr>\n",
       "      <th>8</th>\n",
       "      <td>80</td>\n",
       "      <td>56.5</td>\n",
       "    </tr>\n",
       "    <tr>\n",
       "      <th>9</th>\n",
       "      <td>90</td>\n",
       "      <td>53.4</td>\n",
       "    </tr>\n",
       "    <tr>\n",
       "      <th>10</th>\n",
       "      <td>100</td>\n",
       "      <td>50.5</td>\n",
       "    </tr>\n",
       "  </tbody>\n",
       "</table>\n",
       "</div>"
      ],
      "text/plain": [
       "    Time(s)  Temperature(°C)\n",
       "0         0             90.0\n",
       "1        10             84.5\n",
       "2        20             79.8\n",
       "3        30             75.3\n",
       "4        40             71.0\n",
       "5        50             67.0\n",
       "6        60             63.3\n",
       "7        70             59.8\n",
       "8        80             56.5\n",
       "9        90             53.4\n",
       "10      100             50.5"
      ]
     },
     "execution_count": 17,
     "metadata": {},
     "output_type": "execute_result"
    }
   ],
   "source": [
    "\n",
    "# QUESTION 3A\n",
    "\n",
    "import pandas as pd\n",
    "# Reading data using pandas\n",
    "data = pd.read_csv(r\"G:\\CS NOTES\\2.2\\SCIENTIFIC COMPUTING\\Assignment\\Scientic computing cat\\Temp_dataset.csv\", encoding='latin1')\n",
    "data"
   ]
  },
  {
   "cell_type": "code",
   "execution_count": null,
   "id": "95e8384f",
   "metadata": {},
   "outputs": [
    {
     "data": {
      "image/png": "[encoded data removed]",
      "text/plain": [
       "<Figure size 640x480 with 1 Axes>"
      ]
     },
     "metadata": {},
     "output_type": "display_data"
    }
   ],
   "source": [
    "\n",
    "import matplotlib.pyplot as plt\n",
    "plt.plot(data.iloc[:, 0], data.iloc[:, 1])\n",
    "\n",
    "plt.xlabel(\"Time (s)\")\n",
    "plt.ylabel(\"Temperature (°C)\")\n",
    "\n",
    "plt.title(\"Temperature vs Time\") \n",
    "\n",
    "plt.grid()  \n",
    "plt.show()"
   ]
  },
  {
   "cell_type": "markdown",
   "id": "f0b71afa",
   "metadata": {},
   "source": [
    "\n",
    " QUESTION 3B\n",
    " Observations from graph:\n",
    "\n",
    "1.The temperature decreases over time: The plot clearly shows that as time progresses (along the x-axis), the temperature (along the y-axis) consistently goes down. This therefore indicates a cooling process is taking place.\n",
    "\n",
    "2.The rate of cooling is not constant: Since the line on the graph is curved, specifically concave up.This tells us that the temperature is dropping more rapidly at the beginning of the process and then the rate of cooling slows down as time goes on. In other words, the temperature changes more drastically in the initial few seconds compared to later on.\n",
    "\n"
   ]
  },
  {
   "cell_type": "markdown",
   "id": "7e08bf32",
   "metadata": {},
   "source": [
    "\n",
    " QUESTION 3C\n",
    " A situation in engineering where such visualization can be used to influence \n",
    "decision-making:    \n",
    "\n",
    "In Embedded Systems & Electronics, temperature vs. time graphs are used to monitor the thermal behavior of components like CPUs or microcontrollers. This helps engineers detect overheating, evaluate cooling efficiency, and make informed decisions—such as adding heat sinks, improving airflow, or adjusting processor speed through firmware. The goal is to prevent thermal damage, maintain performance, and ensure system reliability.\n"
   ]
  },
  {
   "cell_type": "markdown",
   "id": "02995512",
   "metadata": {},
   "source": [
    "\n",
    "QUESTION 4A\n",
    "\n",
    "Euler's method formula:\n",
    "                       Yn+1 =Yn +h*f'(Tn,Yn)\n",
    "                       Tn+1=Tn+h\n",
    "\n",
    "First order Differential equation\n",
    "dy/dt=0.5y\n",
    "\n",
    "Intitial condtions\n",
    "t0=0\n",
    "Y0=100\n",
    "\n",
    "Step size\n",
    "h=0.5\n",
    "\n",
    "When n=1\n",
    "t1=t0 +h=0.5\n",
    "Y1=Y0 +h*f'(Y0)=100+0.5*0.5*100=125\n",
    "\n",
    "When n=2\n",
    "t2=t1+h=0.5+0.5=1\n",
    "Y2=Y1 +0.5*0.5*Y1=156.25\n",
    "\n",
    "When n=3\n",
    "t3=1.5\n",
    "Y3=156.25+0.5*0.5*156.25=195.3125\n",
    "\n",
    "When n=4\n",
    "t4=2\n",
    "Y4=195.3125+0.5*0.5*195.3125=244.140625\n",
    "Hence the approximate population size using Euler's method is 244.140625\n",
    "\n"
   ]
  },
  {
   "cell_type": "code",
   "execution_count": null,
   "id": "3a2baec9",
   "metadata": {},
   "outputs": [],
   "source": [
    "\n",
    "# QUESTION 4B\n",
    "def euler_method(f, y0, t0, h, n):\n",
    "    \"\"\"\n",
    "    f=first order Differential equation\n",
    "    y0,t0=intitial condtions\n",
    "    h=step size\n",
    "    n=number of steps\n",
    "    \"\"\"\n",
    "    t_values = [t0]\n",
    "    y_values = [y0]\n",
    "    \n",
    "    t_current = t0\n",
    "    y_current = y0\n",
    "    \n",
    "    for _ in range(n):\n",
    "        y_current = y_current + h * f(t_current, y_current)\n",
    "        t_current += h\n",
    "        \n",
    "        t_values.append(t_current)\n",
    "        y_values.append(y_current)\n",
    "    \n",
    "    return t_values, y_values\n"
   ]
  },
  {
   "cell_type": "markdown",
   "id": "ad5dc236",
   "metadata": {},
   "source": [
    "\n",
    "QUESTION 4 C\n",
    "\n",
    "LIMITATIONS OF EULER'S METHOD\n",
    "\n",
    "1. Stability Issues:\n",
    "In some problems—especially those with stiff differential equations, which are common in engineering Euler’s method can become unstable. This means the solution may grow wildly or give wrong results unless the step size is made very small. Using tiny step sizes increases the amount of time and computing power needed. Even then, if the step size isn't chosen carefully, Euler’s method might still fail to.\n",
    "\n",
    "2. Low Accuracy (First-Order Method):\n",
    "Euler’s Method is not very accurate. To get good results, you need to take very small steps, which means doing a lot of calculations. This makes it slow and not very efficient, especially when high precision is needed.\n",
    "\n",
    "ALTERNATIVE FOR EULER'S METHOD\n",
    "\n",
    "Runge-Kutta Methods:\n",
    "\n",
    " Especially the Fourth-Order Runge-Kutta (RK4) method is a better option than Euler’s method for solving real-world problems. It gives more accurate results and is more stable, even when the step size is not very small. Unlike Euler’s method, which can easily become inaccurate or unstable, RK4 takes more careful steps by averaging several estimates at each stage. This makes it both efficient and precise. Because of this, RK4 is often used in science and engineering to model systems more reliably and safely.\n"
   ]
  },
  {
   "cell_type": "markdown",
   "id": "330f1ba0",
   "metadata": {},
   "source": [
    " <!-- QUESTION 3C -->\n",
    "<!-- a situation in engineering where such visualization can be used to influence \n",
    "decision-making.   -->"
   ]
  }
 ],
 "metadata": {
  "kernelspec": {
   "display_name": "Python 3",
   "language": "python",
   "name": "python3"
  },
  "language_info": {
   "codemirror_mode": {
    "name": "ipython",
    "version": 3
   },
   "file_extension": ".py",
   "mimetype": "text/x-python",
   "name": "python",
   "nbconvert_exporter": "python",
   "pygments_lexer": "ipython3",
   "version": "3.13.0"
  }
 },
 "nbformat": 4,
 "nbformat_minor": 5
}
